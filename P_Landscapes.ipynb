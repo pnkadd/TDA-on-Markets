{
  "nbformat": 4,
  "nbformat_minor": 0,
  "metadata": {
    "colab": {
      "provenance": []
    },
    "kernelspec": {
      "name": "python3",
      "display_name": "Python 3"
    },
    "language_info": {
      "name": "python"
    }
  },
  "cells": [
    {
      "cell_type": "code",
      "execution_count": null,
      "metadata": {
        "colab": {
          "base_uri": "https://localhost:8080/"
        },
        "id": "TwFXHaUlL087",
        "outputId": "138b55d3-ef2c-491b-f8a0-f0bcfe1d4dfb"
      },
      "outputs": [
        {
          "output_type": "stream",
          "name": "stdout",
          "text": [
            "Requirement already satisfied: yfinance in /usr/local/lib/python3.10/dist-packages (0.2.33)\n",
            "Collecting gudhi\n",
            "  Downloading gudhi-3.8.0-cp310-cp310-manylinux_2_17_x86_64.manylinux2014_x86_64.whl (3.0 MB)\n",
            "\u001b[2K     \u001b[90m━━━━━━━━━━━━━━━━━━━━━━━━━━━━━━━━━━━━━━━━\u001b[0m \u001b[32m3.0/3.0 MB\u001b[0m \u001b[31m20.3 MB/s\u001b[0m eta \u001b[36m0:00:00\u001b[0m\n",
            "\u001b[?25hRequirement already satisfied: matplotlib in /usr/local/lib/python3.10/dist-packages (3.7.1)\n",
            "Requirement already satisfied: numpy in /usr/local/lib/python3.10/dist-packages (1.23.5)\n",
            "Requirement already satisfied: pandas in /usr/local/lib/python3.10/dist-packages (1.5.3)\n",
            "Requirement already satisfied: requests>=2.31 in /usr/local/lib/python3.10/dist-packages (from yfinance) (2.31.0)\n",
            "Requirement already satisfied: multitasking>=0.0.7 in /usr/local/lib/python3.10/dist-packages (from yfinance) (0.0.11)\n",
            "Requirement already satisfied: lxml>=4.9.1 in /usr/local/lib/python3.10/dist-packages (from yfinance) (4.9.3)\n",
            "Requirement already satisfied: appdirs>=1.4.4 in /usr/local/lib/python3.10/dist-packages (from yfinance) (1.4.4)\n",
            "Requirement already satisfied: pytz>=2022.5 in /usr/local/lib/python3.10/dist-packages (from yfinance) (2023.3.post1)\n",
            "Requirement already satisfied: frozendict>=2.3.4 in /usr/local/lib/python3.10/dist-packages (from yfinance) (2.3.10)\n",
            "Requirement already satisfied: peewee>=3.16.2 in /usr/local/lib/python3.10/dist-packages (from yfinance) (3.17.0)\n",
            "Requirement already satisfied: beautifulsoup4>=4.11.1 in /usr/local/lib/python3.10/dist-packages (from yfinance) (4.11.2)\n",
            "Requirement already satisfied: html5lib>=1.1 in /usr/local/lib/python3.10/dist-packages (from yfinance) (1.1)\n",
            "Requirement already satisfied: contourpy>=1.0.1 in /usr/local/lib/python3.10/dist-packages (from matplotlib) (1.2.0)\n",
            "Requirement already satisfied: cycler>=0.10 in /usr/local/lib/python3.10/dist-packages (from matplotlib) (0.12.1)\n",
            "Requirement already satisfied: fonttools>=4.22.0 in /usr/local/lib/python3.10/dist-packages (from matplotlib) (4.46.0)\n",
            "Requirement already satisfied: kiwisolver>=1.0.1 in /usr/local/lib/python3.10/dist-packages (from matplotlib) (1.4.5)\n",
            "Requirement already satisfied: packaging>=20.0 in /usr/local/lib/python3.10/dist-packages (from matplotlib) (23.2)\n",
            "Requirement already satisfied: pillow>=6.2.0 in /usr/local/lib/python3.10/dist-packages (from matplotlib) (9.4.0)\n",
            "Requirement already satisfied: pyparsing>=2.3.1 in /usr/local/lib/python3.10/dist-packages (from matplotlib) (3.1.1)\n",
            "Requirement already satisfied: python-dateutil>=2.7 in /usr/local/lib/python3.10/dist-packages (from matplotlib) (2.8.2)\n",
            "Requirement already satisfied: soupsieve>1.2 in /usr/local/lib/python3.10/dist-packages (from beautifulsoup4>=4.11.1->yfinance) (2.5)\n",
            "Requirement already satisfied: six>=1.9 in /usr/local/lib/python3.10/dist-packages (from html5lib>=1.1->yfinance) (1.16.0)\n",
            "Requirement already satisfied: webencodings in /usr/local/lib/python3.10/dist-packages (from html5lib>=1.1->yfinance) (0.5.1)\n",
            "Requirement already satisfied: charset-normalizer<4,>=2 in /usr/local/lib/python3.10/dist-packages (from requests>=2.31->yfinance) (3.3.2)\n",
            "Requirement already satisfied: idna<4,>=2.5 in /usr/local/lib/python3.10/dist-packages (from requests>=2.31->yfinance) (3.6)\n",
            "Requirement already satisfied: urllib3<3,>=1.21.1 in /usr/local/lib/python3.10/dist-packages (from requests>=2.31->yfinance) (2.0.7)\n",
            "Requirement already satisfied: certifi>=2017.4.17 in /usr/local/lib/python3.10/dist-packages (from requests>=2.31->yfinance) (2023.11.17)\n"
          ]
        }
      ],
      "source": [
        "!pip install yfinance gudhi matplotlib numpy pandas\n",
        "\n",
        "import yfinance as yf\n",
        "import numpy as np\n",
        "import pandas as pd\n",
        "import gudhi as gd\n",
        "import matplotlib.pyplot as plt\n",
        "from gudhi import RipsComplex, SimplexTree\n",
        "from gudhi.hera import wasserstein_distance\n",
        "\n",
        "# -------------------------------\n",
        "# Data Acquisition and Preparation\n",
        "# -------------------------------\n",
        "sp500 = yf.download('^GSPC', start='2005-01-01', end='2023-07-30')['Close']\n",
        "nasdaq = yf.download('^IXIC', start='2005-01-01', end='2023-07-30')['Close']\n",
        "djia = yf.download('^DJI', start='2005-01-01', end='2023-07-30')['Close']\n",
        "russell2000 = yf.download('^RUT', start='2005-01-01', end='2023-07-30')['Close']\n",
        "\n",
        "log_returns_sp500 = np.log(sp500 / sp500.shift(1)).dropna()\n",
        "log_returns_nasdaq = np.log(nasdaq / nasdaq.shift(1)).dropna()\n",
        "log_returns_djia = np.log(djia / djia.shift(1)).dropna()\n",
        "log_returns_russell2000 = np.log(russell2000 / russell2000.shift(1)).dropna()\n",
        "\n",
        "# -------------------------------\n",
        "# Sliding Window Approach\n",
        "# -------------------------------\n",
        "window_size = 50\n",
        "persistence_diagrams = []\n",
        "landscapes = []\n",
        "\n",
        "# Helper Functions\n",
        "def create_landscape_function(b, d):\n",
        "    return lambda x: max(min(x - b, d - x, (d - b) / 2), 0)\n",
        "\n",
        "def calculate_lp_norm(landscape, p):\n",
        "    return np.sum(np.abs(landscape)**p)**(1/p)\n",
        "\n",
        "def rate_of_change(values):\n",
        "    return np.diff(values)\n",
        "\n",
        "# Main Analysis Loop\n",
        "for i in range(len(log_returns_sp500) - window_size + 1):\n",
        "    window = np.column_stack((log_returns_sp500[i:i+window_size],\n",
        "                              log_returns_nasdaq[i:i+window_size],\n",
        "                              log_returns_djia[i:i+window_size],\n",
        "                              log_returns_russell2000[i:i+window_size]))\n",
        "    rips = RipsComplex(points=window, max_edge_length=10)\n",
        "    simplex_tree = rips.create_simplex_tree(max_dimension=2)\n",
        "    diagram = simplex_tree.persistence()\n",
        "    persistence_diagrams.append(diagram)\n",
        "\n",
        "\n",
        "    # Extract 1-cycles for landscape functions\n",
        "    one_cycles = [pt for pt in diagram if pt[0] == 1]\n",
        "    if one_cycles:\n",
        "        landscape_functions = [create_landscape_function(b, d) for _, (b, d) in one_cycles]\n",
        "        x_values = np.linspace(min(b for _, (b, _) in one_cycles),\n",
        "                               max(d for _, (_, d) in one_cycles),\n",
        "                               1000)\n",
        "        landscape_values = np.maximum.reduce([np.array([f(x) for x in x_values]) for f in landscape_functions])\n",
        "    else:\n",
        "        x_values = np.linspace(0, 1, 1000)\n",
        "        landscape_values = np.zeros_like(x_values)\n",
        "\n",
        "    landscapes.append(landscape_values)\n",
        "\n",
        "# Compute L^p norms\n",
        "lp_norms_p1 = [calculate_lp_norm(landscape, 1) for landscape in landscapes]\n",
        "lp_norms_p2 = [calculate_lp_norm(landscape, 2) for landscape in landscapes]"
      ]
    }
  ]
}