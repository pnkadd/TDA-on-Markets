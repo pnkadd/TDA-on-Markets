{
  "nbformat": 4,
  "nbformat_minor": 0,
  "metadata": {
    "colab": {
      "provenance": []
    },
    "kernelspec": {
      "name": "python3",
      "display_name": "Python 3"
    },
    "language_info": {
      "name": "python"
    }
  },
  "cells": [
    {
      "cell_type": "code",
      "execution_count": null,
      "metadata": {
        "id": "TwFXHaUlL087"
      },
      "outputs": [],
      "source": [
        "!pip install yfinance gudhi matplotlib numpy pandas\n",
        "\n",
        "import yfinance as yf\n",
        "import numpy as np\n",
        "import pandas as pd\n",
        "import gudhi as gd\n",
        "import matplotlib.pyplot as plt\n",
        "from gudhi import RipsComplex, SimplexTree\n",
        "from gudhi.hera import wasserstein_distance\n",
        "\n",
        "# -------------------------------\n",
        "# Data Acquisition and Preparation\n",
        "# -------------------------------\n",
        "sp500 = yf.download('^GSPC', start='2005-01-01', end='2023-07-30')['Close']\n",
        "nasdaq = yf.download('^IXIC', start='2005-01-01', end='2023-07-30')['Close']\n",
        "djia = yf.download('^DJI', start='2005-01-01', end='2023-07-30')['Close']\n",
        "russell2000 = yf.download('^RUT', start='2005-01-01', end='2023-07-30')['Close']\n",
        "\n",
        "log_returns_sp500 = np.log(sp500 / sp500.shift(1)).dropna()\n",
        "log_returns_nasdaq = np.log(nasdaq / nasdaq.shift(1)).dropna()\n",
        "log_returns_djia = np.log(djia / djia.shift(1)).dropna()\n",
        "log_returns_russell2000 = np.log(russell2000 / russell2000.shift(1)).dropna()\n",
        "\n",
        "# -------------------------------\n",
        "# Sliding Window Approach\n",
        "# -------------------------------\n",
        "window_size = 50\n",
        "persistence_diagrams = []\n",
        "p_persistence_diagrams = []\n",
        "wasserstein_distances = []\n",
        "\n",
        "\n",
        "# Helper Functions\n",
        "def simplex_tree_to_diagram(simplex_tree):\n",
        "    return np.array([[birth, death] for _, (birth, death) in simplex_tree.persistence() if death != float('inf')])\n",
        "\n",
        "def compute_wasserstein_distance(diagram1, diagram2):\n",
        "    return gd.hera.wasserstein_distance(diagram1, diagram2, order=2)\n",
        "\n",
        "\n",
        "# Main Analysis Loop\n",
        "for i in range(len(log_returns_sp500) - window_size + 1):\n",
        "    window = np.column_stack((log_returns_sp500[i:i+window_size],\n",
        "                              log_returns_nasdaq[i:i+window_size],\n",
        "                              log_returns_djia[i:i+window_size],\n",
        "                              log_returns_russell2000[i:i+window_size]))\n",
        "    rips = RipsComplex(points=window, max_edge_length=10)\n",
        "    simplex_tree = rips.create_simplex_tree(max_dimension=2)\n",
        "    diagram = simplex_tree.persistence()\n",
        "    persistence_diagrams.append(diagram)\n",
        "    p_persistence_diagrams.append(simplex_tree_to_diagram(simplex_tree))\n",
        "\n",
        "# Compute Wasserstein distances\n",
        "for i in range(len(persistence_diagrams) - 1):\n",
        "    distance = compute_wasserstein_distance(p_persistence_diagrams[i], p_persistence_diagrams[i+1])\n",
        "    wasserstein_distances.append(distance)"
      ]
    }
  ]
}